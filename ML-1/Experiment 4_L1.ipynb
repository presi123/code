{
 "cells": [
  {
   "cell_type": "markdown",
   "id": "4a7c09a2",
   "metadata": {},
   "source": [
    "# Experiment No.4: Logistic regression\n",
    "##Level 1 Write custom code for generating the logistic/sigmoid plot for a given input"
   ]
  },
  {
   "cell_type": "code",
   "execution_count": null,
   "id": "f153f93a",
   "metadata": {},
   "outputs": [],
   "source": [
    "#import library\n",
    "import pandas as pd\n",
    "import matplotlib.pyplot as plt\n",
    "import numpy as np"
   ]
  },
  {
   "cell_type": "code",
   "execution_count": null,
   "id": "d37ca8b1",
   "metadata": {},
   "outputs": [],
   "source": [
    "# Define the logistic function\n",
    "def sigmoid(x):\n",
    " return 1 / (1 + np.exp(-x))"
   ]
  },
  {
   "cell_type": "markdown",
   "id": "6c8973a9",
   "metadata": {},
   "source": [
    "## A array of x values"
   ]
  },
  {
   "cell_type": "code",
   "execution_count": null,
   "id": "d082b0aa",
   "metadata": {},
   "outputs": [],
   "source": [
    "# Define the range of the x-axis\n",
    "x = np.arange(-10, 10, 0.1)\n",
    "x"
   ]
  },
  {
   "cell_type": "code",
   "execution_count": null,
   "id": "35e139e0",
   "metadata": {},
   "outputs": [],
   "source": [
    "# Plot the sigmoid function\n",
    "plt.plot(x, sigmoid(x), color='blue')\n",
    "plt.xlabel(\"x\")\n",
    "plt.ylabel(\"sigmoid(x)\")\n",
    "plt.title(\"Sigmoid Function\")"
   ]
  },
  {
   "cell_type": "code",
   "execution_count": null,
   "id": "55f3615f",
   "metadata": {},
   "outputs": [],
   "source": [
    "##Wine quality white dataset"
   ]
  },
  {
   "cell_type": "code",
   "execution_count": null,
   "id": "34b24387",
   "metadata": {},
   "outputs": [],
   "source": [
    "url = \"https://archive.ics.uci.edu/ml/machine-learning-databases/wine-quality/winequality-white.csv\"\n",
    "data = pd.read_csv(url, sep=';')\n",
    "data"
   ]
  },
  {
   "cell_type": "code",
   "execution_count": null,
   "id": "3d4d8548",
   "metadata": {},
   "outputs": [],
   "source": [
    "# This example assumes that the dataset has already been preprocessed\n",
    "# and is available as a pandas dataframe called \"data\"\n",
    "# x_input is the input feature that we want to use for the sigmoid plot\n",
    "x_input = data['fixed acidity']"
   ]
  },
  {
   "cell_type": "code",
   "execution_count": null,
   "id": "415516b2",
   "metadata": {},
   "outputs": [],
   "source": [
    "# Calculate the y-values for the sigmoid plot\n",
    "y_output = sigmoid(x_input)"
   ]
  },
  {
   "cell_type": "code",
   "execution_count": null,
   "id": "7f9aa331",
   "metadata": {},
   "outputs": [],
   "source": [
    "# Create the plot\n",
    "plt.plot(x_input, y_output)\n",
    "# Set the plot title and labels\n",
    "plt.title(\"Logistic Plot for Fixed Acidity\")\n",
    "plt.xlabel(\"Fixed Acidity\")\n",
    "plt.ylabel(\"Output\")\n",
    "# Show the plot\n",
    "plt.show()"
   ]
  },
  {
   "cell_type": "code",
   "execution_count": null,
   "id": "493c39d5",
   "metadata": {},
   "outputs": [],
   "source": [
    "## WInequality-red dataset"
   ]
  },
  {
   "cell_type": "code",
   "execution_count": null,
   "id": "a4dec8f6",
   "metadata": {},
   "outputs": [],
   "source": [
    "\n",
    "url = \"https://archive.ics.uci.edu/ml/machine-learning-databases/wine-quality/winequality-red.csv\"\n",
    "wine_data = pd.read_csv(url, sep=';')\n",
    "wine_data"
   ]
  },
  {
   "cell_type": "code",
   "execution_count": null,
   "id": "eb2df2cf",
   "metadata": {},
   "outputs": [],
   "source": [
    "# Define the features and target variable\n",
    "X = wine_data.iloc[:,:-1].values\n",
    "y = wine_data.iloc[:, -1].values"
   ]
  },
  {
   "cell_type": "code",
   "execution_count": null,
   "id": "3e8037b1",
   "metadata": {},
   "outputs": [],
   "source": [
    "X = wine_data.iloc[:,:-1].values ##slicin function\n",
    "X"
   ]
  },
  {
   "cell_type": "code",
   "execution_count": null,
   "id": "d7dc1d81",
   "metadata": {},
   "outputs": [],
   "source": [
    "# Calculate the y-values for the sigmoid plot\n",
    "y_output = sigmoid(X)"
   ]
  },
  {
   "cell_type": "code",
   "execution_count": null,
   "id": "a36ba0d1",
   "metadata": {},
   "outputs": [],
   "source": [
    "plt.plot(X,y_output)"
   ]
  },
  {
   "cell_type": "code",
   "execution_count": null,
   "id": "eb884653",
   "metadata": {},
   "outputs": [],
   "source": []
  }
 ],
 "metadata": {
  "kernelspec": {
   "display_name": "Python 3 (ipykernel)",
   "language": "python",
   "name": "python3"
  },
  "language_info": {
   "codemirror_mode": {
    "name": "ipython",
    "version": 3
   },
   "file_extension": ".py",
   "mimetype": "text/x-python",
   "name": "python",
   "nbconvert_exporter": "python",
   "pygments_lexer": "ipython3",
   "version": "3.9.13"
  }
 },
 "nbformat": 4,
 "nbformat_minor": 5
}
