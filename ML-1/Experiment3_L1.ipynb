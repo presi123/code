{
 "cells": [
  {
   "cell_type": "code",
   "execution_count": null,
   "id": "26d49030",
   "metadata": {},
   "outputs": [],
   "source": [
    "#Experiment No. 3: Regression learning\n",
    "#Level 1 Given a data set from UCI repository, implement the \n",
    "#simple linear regression algorithm and estimate the model's\n",
    "#parameters and the performance metrics. Plot the learning curves."
   ]
  },
  {
   "cell_type": "code",
   "execution_count": null,
   "id": "8fd37e9b",
   "metadata": {},
   "outputs": [],
   "source": [
    "import pandas as pd\n",
    "import numpy as np\n",
    "import matplotlib.pyplot as plt\n",
    "from sklearn.linear_model import LinearRegression\n",
    "from sklearn.metrics import mean_squared_error, r2_score\n",
    "from sklearn.model_selection import learning_curve\n",
    "from sklearn.model_selection import train_test_split\n"
   ]
  },
  {
   "cell_type": "code",
   "execution_count": null,
   "id": "46a54053",
   "metadata": {
    "scrolled": true
   },
   "outputs": [],
   "source": [
    "#Import data\n",
    "https://archive.ics.uci.edu/ml/machine-learning-databases/\n",
    "    wine-quality/winequality-white.csv\n",
    "url = \"https://archive.ics.uci.edu/ml/machine-learning-databases/wine-quality/winequality-white.csv\"\n",
    "data = pd.read_csv(url, sep=';')\n",
    "data"
   ]
  },
  {
   "cell_type": "code",
   "execution_count": null,
   "id": "9505b47e",
   "metadata": {},
   "outputs": [],
   "source": [
    "# Split the dataset into training and testing sets\n",
    "X = data[['alcohol']].values\n",
    "y = data['quality'].values\n",
    "X_train, X_test, y_train, y_test = train_test_split(X, y, test_size=0.2, \n",
    "                                                    random_state=0)"
   ]
  },
  {
   "cell_type": "code",
   "execution_count": null,
   "id": "66f25ae4",
   "metadata": {},
   "outputs": [],
   "source": [
    "# Create a linear regression object and fit the model to the training data\n",
    "regressor = LinearRegression()\n",
    "regressor.fit(X_train, y_train)\n",
    "# Predict the quality of the wine for the test data\n",
    "y_pred = regressor.predict(X_test)\n",
    "# Print the model's parameters\n",
    "print('Coefficients: ', regressor.coef_)\n",
    "print('Intercept: ', regressor.intercept_)\n",
    "# Print the performance metrics\n",
    "mse = mean_squared_error(y_test, y_pred)\n",
    "rmse = np.sqrt(mse)\n",
    "r2 = r2_score(y_test, y_pred)\n",
    "print('Mean Squared Error: ', mse)\n",
    "print('Root Mean Squared Error: ', rmse)\n",
    "print('R-squared: ', r2)\n"
   ]
  },
  {
   "cell_type": "code",
   "execution_count": null,
   "id": "95a5de2a",
   "metadata": {},
   "outputs": [],
   "source": [
    "\n",
    "# Plot the learning curves\n",
    "train_sizes, train_scores, test_scores = learning_curve(regressor, X, y, cv=5)\n",
    "train_mean = np.mean(train_scores, axis=1)\n",
    "train_std = np.std(train_scores, axis=1)\n",
    "test_mean = np.mean(test_scores, axis=1)\n",
    "test_std = np.std(test_scores, axis=1)\n",
    "plt.plot(train_sizes, train_mean, label='Training score')\n",
    "plt.plot(train_sizes, test_mean, label='Cross-validation score')\n",
    "plt.fill_between(train_sizes, train_mean - train_std, train_mean + train_std, \n",
    "                 alpha=0.1)\n",
    "plt.fill_between(train_sizes, test_mean - test_std, test_mean + test_std, \n",
    "                 alpha=0.1)\n",
    "plt.xlabel('Training set size')\n",
    "plt.ylabel('Score')\n",
    "plt.title('Learning curves')\n",
    "plt.legend()\n",
    "plt.show()\n"
   ]
  },
  {
   "cell_type": "code",
   "execution_count": null,
   "id": "4e90d101",
   "metadata": {},
   "outputs": [],
   "source": [
    "train_sizes"
   ]
  },
  {
   "cell_type": "code",
   "execution_count": null,
   "id": "f7351661",
   "metadata": {},
   "outputs": [],
   "source": [
    "train_scores"
   ]
  },
  {
   "cell_type": "code",
   "execution_count": null,
   "id": "e5b364a3",
   "metadata": {},
   "outputs": [],
   "source": [
    "test_scores "
   ]
  },
  {
   "cell_type": "code",
   "execution_count": null,
   "id": "c7acdf39",
   "metadata": {},
   "outputs": [],
   "source": []
  }
 ],
 "metadata": {
  "kernelspec": {
   "display_name": "Python 3 (ipykernel)",
   "language": "python",
   "name": "python3"
  },
  "language_info": {
   "codemirror_mode": {
    "name": "ipython",
    "version": 3
   },
   "file_extension": ".py",
   "mimetype": "text/x-python",
   "name": "python",
   "nbconvert_exporter": "python",
   "pygments_lexer": "ipython3",
   "version": "3.9.13"
  }
 },
 "nbformat": 4,
 "nbformat_minor": 5
}
